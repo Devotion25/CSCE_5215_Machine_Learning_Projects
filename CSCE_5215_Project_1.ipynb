{
  "nbformat": 4,
  "nbformat_minor": 0,
  "metadata": {
    "colab": {
      "provenance": [],
      "authorship_tag": "ABX9TyP+Zuhud2C82DQHpDYkloQT",
      "include_colab_link": true
    },
    "kernelspec": {
      "name": "python3",
      "display_name": "Python 3"
    },
    "language_info": {
      "name": "python"
    }
  },
  "cells": [
    {
      "cell_type": "markdown",
      "metadata": {
        "id": "view-in-github",
        "colab_type": "text"
      },
      "source": [
        "<a href=\"https://colab.research.google.com/github/Devotion25/CSCE_5215_Machine_Learning_Projects/blob/main/CSCE_5215_Project_1.ipynb\" target=\"_parent\"><img src=\"https://colab.research.google.com/assets/colab-badge.svg\" alt=\"Open In Colab\"/></a>"
      ]
    },
    {
      "cell_type": "code",
      "execution_count": 5,
      "metadata": {
        "id": "mnULA4RwPe_z"
      },
      "outputs": [],
      "source": [
        "import numpy as np\n",
        "import pandas as pd\n",
        "import matplotlib.pyplot as plt\n",
        "import seaborn as sns\n",
        "from sklearn.preprocessing import MinMaxScaler, PolynomialFeatures\n",
        "from sklearn.impute import SimpleImputer\n",
        "from sklearn.manifold import TSNE\n",
        "from sklearn.model_selection import RepeatedStratifiedKFold, cross_val_score, train_test_split\n",
        "from sklearn.linear_model import SGDClassifier\n",
        "from sklearn.neural_network import MLPClassifier\n",
        "from sklearn.metrics import accuracy_score, f1_score, classification_report\n",
        "from imblearn.over_sampling import SMOTENC"
      ]
    },
    {
      "cell_type": "code",
      "source": [
        "df = pd.read_csv(\"https://archive.ics.uci.edu/ml/machine-learning-databases/statlog/german/german.data\", delimiter=' ', header=None)\n",
        "\n",
        "\n",
        "df.columns = [\"Status\", \"Duration\", \"CreditHistory\", \"Purpose\", \"CreditAmount\", \"Savings\",\n",
        "              \"Employment\", \"InstallmentRate\", \"Sex\", \"Debtors\", \"ResidenceYears\",\n",
        "              \"Property\", \"Age\", \"OtherPlans\", \"Housing\", \"ExistingCredits\",\n",
        "              \"Job\", \"LiablePersons\", \"Telephone\", \"ForeignWorker\", \"Target\"]\n",
        "\n",
        "\n",
        "df[\"Target\"] = df[\"Target\"].apply(lambda x: 1 if x == 1 else 0)\n",
        "\n",
        "\n",
        "imputer = SimpleImputer(strategy=\"median\")\n",
        "numeric_df = df.select_dtypes(include=[np.number])\n",
        "df[numeric_df.columns] = imputer.fit_transform(numeric_df)\n",
        "\n",
        "\n",
        "scaler = MinMaxScaler()\n",
        "numeric_features = [\"Duration\", \"CreditAmount\", \"Age\", \"InstallmentRate\", \"ExistingCredits\"]\n",
        "df[numeric_features] = scaler.fit_transform(df[numeric_features])\n",
        "\n",
        "poly = PolynomialFeatures(degree=2, interaction_only=True, include_bias=False)\n",
        "X_poly = poly.fit_transform(df[numeric_features])"
      ],
      "metadata": {
        "id": "5cBGM8l_PrEG"
      },
      "execution_count": 40,
      "outputs": []
    },
    {
      "cell_type": "code",
      "source": [
        "\n",
        "cv = RepeatedStratifiedKFold(n_splits=10, n_repeats=3, random_state=42)\n",
        "\n",
        "\n",
        "def evaluate_model(model, X, y, cv):\n",
        "    acc_scores = cross_val_score(model, X, y, scoring='accuracy', cv=cv, n_jobs=-1)\n",
        "    f1_scores = cross_val_score(model, X, y, scoring='f1', cv=cv, n_jobs=-1)\n",
        "    return {\"Accuracy\": np.mean(acc_scores), \"F1-Score\": np.mean(f1_scores)}\n",
        "\n",
        "\n",
        "models = {\n",
        "    \"Perceptron\": SGDClassifier(loss='perceptron', max_iter=1000, random_state=42),\n",
        "    \"Logistic Regression\": SGDClassifier(loss='log_loss', max_iter=1000, random_state=42),\n",
        "    \"SVM\": SGDClassifier(loss='hinge', max_iter=1000, random_state=42),\n",
        "    \"MLP\": MLPClassifier(hidden_layer_sizes=(100,), max_iter=500, random_state=42)\n",
        "}\n",
        "\n",
        "\n",
        "results = {name: evaluate_model(model, X_poly, df[\"Target\"], cv) for name, model in models.items()}\n",
        "results_df = pd.DataFrame(results).T\n",
        "print(\"\\n===== R2: Model Performance Summary =====\")\n",
        "print(results_df)"
      ],
      "metadata": {
        "colab": {
          "base_uri": "https://localhost:8080/"
        },
        "id": "eUHvSLBhUOk8",
        "outputId": "4e661f58-4b6a-4714-dfae-16d794907931"
      },
      "execution_count": 54,
      "outputs": [
        {
          "output_type": "stream",
          "name": "stdout",
          "text": [
            "\n",
            "===== R2: Model Performance Summary =====\n",
            "                     Accuracy  F1-Score\n",
            "Perceptron           0.607000  0.663256\n",
            "Logistic Regression  0.676667  0.780698\n",
            "SVM                  0.681667  0.790133\n",
            "MLP                  0.700000  0.811230\n"
          ]
        }
      ]
    },
    {
      "cell_type": "code",
      "source": [
        "categorical_features = [\"Status\", \"CreditHistory\", \"Purpose\", \"Savings\", \"Employment\"]\n",
        "categorical_feature_indices = [df.columns.get_loc(col) for col in categorical_features]\n",
        "smote = SMOTENC(categorical_features=categorical_feature_indices, random_state=42)\n",
        "X_train_smote, y_train_smote = smote.fit_resample(X_train, y_train)\n",
        "\n",
        "\n",
        "best_linear_classifier = SGDClassifier(loss='log_loss', max_iter=1000, class_weight='balanced', random_state=42)\n",
        "best_linear_classifier.fit(X_train, y_train)\n",
        "y_pred = best_linear_classifier.predict(X_test)\n",
        "accuracy_b = accuracy_score(y_test, y_pred)\n",
        "f1_b = f1_score(y_test, y_pred)\n",
        "\n",
        "\n",
        "best_linear_classifier.fit(X_train_smote, y_train_smote)\n",
        "y_pred_smote = best_linear_classifier.predict(X_test)\n",
        "accuracy_c = accuracy_score(y_test, y_pred_smote)\n",
        "f1_c = f1_score(y_test, y_pred_smote)\n",
        "\n",
        "\n",
        "comparison_df = pd.DataFrame({\n",
        "    \"Method\": [\"Class Weighting\", \"SMOTENC\"],\n",
        "    \"Accuracy\": [accuracy_b, accuracy_c],\n",
        "    \"F1-Score\": [f1_b, f1_c]\n",
        "})\n",
        "print(\"\\n===== R3: SMOTENC vs Class Weighting =====\")\n",
        "print(comparison_df)"
      ],
      "metadata": {
        "colab": {
          "base_uri": "https://localhost:8080/"
        },
        "id": "MPf977E-j_kK",
        "outputId": "cc43e851-cd5c-4f92-b1b9-8198933ed753"
      },
      "execution_count": 53,
      "outputs": [
        {
          "output_type": "stream",
          "name": "stdout",
          "text": [
            "\n",
            "===== R3: SMOTENC vs Class Weighting =====\n",
            "            Method  Accuracy  F1-Score\n",
            "0  Class Weighting  0.566667  0.601227\n",
            "1          SMOTENC  0.600000  0.677419\n"
          ]
        }
      ]
    },
    {
      "cell_type": "code",
      "source": [
        "X_train_r4, X_test_r4, y_train_r4, y_test_r4 = train_test_split(df[numeric_features], df[\"Target\"], test_size=0.3, random_state=42)\n",
        "\n",
        "logistic_model = SGDClassifier(loss='log_loss', max_iter=1000, class_weight=None, random_state=42)\n",
        "logistic_model.fit(X_train_r4, y_train_r4)\n",
        "\n",
        "y_pred_r4 = logistic_model.predict(X_test_r4)\n",
        "feature_importance = np.abs(logistic_model.coef_).flatten()\n",
        "feature_ranks = np.argsort(feature_importance)[::-1]\n",
        "\n",
        "top_features = feature_ranks[:5]\n",
        "least_features = feature_ranks[-5:]\n",
        "\n",
        "print(\"\\n===== Feature Importance Analysis =====\")\n",
        "print(\"Top 5 Most Important Features:\", [numeric_features[i] for i in top_features])\n",
        "print(\"Bottom 5 Least Important Features:\", [numeric_features[i] for i in least_features])\n",
        "\n",
        "\n",
        "X_train_r4_reduced = X_train_r4[[numeric_features[i] for i in top_features]]\n",
        "X_test_r4_reduced = X_test_r4[[numeric_features[i] for i in top_features]]\n",
        "\n",
        "logistic_model.fit(X_train_r4_reduced, y_train_r4)\n",
        "y_pred_r4 = logistic_model.predict(X_test_r4_reduced)\n",
        "f1_r4 = f1_score(y_test_r4, y_pred_r4)\n",
        "print(f\"\\nF1 Score After Feature Selection: {f1_r4:.4f}\")\n",
        "print(\"\\n===== R4: Feature Selection Performance =====\")\n",
        "print(feature_selection_df)"
      ],
      "metadata": {
        "colab": {
          "base_uri": "https://localhost:8080/"
        },
        "id": "zz2Ur0P2kQof",
        "outputId": "9aa4bfc9-c6a2-4662-ef7f-59dbd926db2e"
      },
      "execution_count": 52,
      "outputs": [
        {
          "output_type": "stream",
          "name": "stdout",
          "text": [
            "\n",
            "===== Feature Importance Analysis =====\n",
            "Top 5 Most Important Features: ['Age', 'CreditAmount', 'Duration', 'ExistingCredits', 'InstallmentRate']\n",
            "Bottom 5 Least Important Features: ['Age', 'CreditAmount', 'Duration', 'ExistingCredits', 'InstallmentRate']\n",
            "\n",
            "F1 Score After Feature Selection: 0.8306\n",
            "\n",
            "===== R4: Feature Selection Performance =====\n",
            "                       Step  F1-Score\n",
            "0  Before Feature Selection  0.601227\n",
            "1   After Feature Selection  0.830579\n"
          ]
        }
      ]
    },
    {
      "cell_type": "code",
      "source": [
        "from sklearn.model_selection import GridSearchCV\n",
        "param_grid = {\n",
        "    'loss': ['log_loss', 'hinge'],\n",
        "    'alpha': [0.0001, 0.001, 0.01, 0.1],\n",
        "    'max_iter': [1000, 2000]\n",
        "}\n",
        "\n",
        "grid_search = GridSearchCV(SGDClassifier(random_state=42), param_grid, scoring='f1', cv=5, n_jobs=-1)\n",
        "grid_search.fit(X_train_r4, y_train_r4)\n",
        "\n",
        "print(\"\\n===== Best Hyperparameters Found =====\")\n",
        "print(grid_search.best_params_)"
      ],
      "metadata": {
        "colab": {
          "base_uri": "https://localhost:8080/"
        },
        "id": "tXQzcXEjkTP2",
        "outputId": "871c5153-4721-4aad-b6ba-18eec3cadfff"
      },
      "execution_count": 55,
      "outputs": [
        {
          "output_type": "stream",
          "name": "stdout",
          "text": [
            "\n",
            "===== Best Hyperparameters Found =====\n",
            "{'alpha': 0.001, 'loss': 'hinge', 'max_iter': 1000}\n"
          ]
        }
      ]
    }
  ]
}